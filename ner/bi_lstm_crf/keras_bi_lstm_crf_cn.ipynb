{
 "cells": [
  {
   "cell_type": "markdown",
   "metadata": {
    "id": "iyKKuEqiEGd4"
   },
   "source": [
    "# 6) BiLSTM 과 CRF\n",
    "\n",
    "## 1. CRF(Conditional Random Field)\n",
    "- BiLSTM과는 독자적으로 존재하는 모델 \n",
    "- BiLSTM의 layer로 추가 \n",
    "- 기존에 CRF 층이 존재하지 않았던 BiLSTM 모델은 활성화 함수를 지난 시점에서 개체명을 결정하지만 CRF 층을 추가할 경우 활성화 함수의 결과들이 CRF 층의 입력으로 전달됨\n",
    "\n",
    "### BiLSTM은 입력 단어에 대한 양방향 문맥 반영\n",
    "### CRF는 출력 레이블에 대한 양방향 문맥 반영\n",
    "\n",
    "## 2. 실습 진행 전 환경 설정 및 설치"
   ]
  },
  {
   "cell_type": "code",
   "execution_count": 1,
   "metadata": {
    "colab": {
     "base_uri": "https://localhost:8080/"
    },
    "id": "iYT5okCyFOBq",
    "outputId": "dc63b0e4-f37f-4925-e65e-7396687ee765"
   },
   "outputs": [
    {
     "name": "stdout",
     "output_type": "stream",
     "text": [
      "Collecting git+https://www.github.com/keras-team/keras-contrib.git\n",
      "  Cloning https://www.github.com/keras-team/keras-contrib.git to /private/var/folders/q9/pty21jc157l8w174dv7rhpr80000gn/T/pip-req-build-ydxpzfwa\n",
      "Requirement already satisfied (use --upgrade to upgrade): keras-contrib==2.0.8 from git+https://www.github.com/keras-team/keras-contrib.git in /Users/mac/opt/anaconda3/lib/python3.7/site-packages\n",
      "Requirement already satisfied: keras in /Users/mac/opt/anaconda3/lib/python3.7/site-packages (from keras-contrib==2.0.8) (2.2.4)\n",
      "Requirement already satisfied: keras-preprocessing>=1.0.5 in /Users/mac/opt/anaconda3/lib/python3.7/site-packages (from keras->keras-contrib==2.0.8) (1.1.2)\n",
      "Requirement already satisfied: pyyaml in /Users/mac/opt/anaconda3/lib/python3.7/site-packages (from keras->keras-contrib==2.0.8) (5.3.1)\n",
      "Requirement already satisfied: h5py in /Users/mac/opt/anaconda3/lib/python3.7/site-packages (from keras->keras-contrib==2.0.8) (2.10.0)\n",
      "Requirement already satisfied: numpy>=1.9.1 in /Users/mac/opt/anaconda3/lib/python3.7/site-packages (from keras->keras-contrib==2.0.8) (1.19.1)\n",
      "Requirement already satisfied: scipy>=0.14 in /Users/mac/opt/anaconda3/lib/python3.7/site-packages (from keras->keras-contrib==2.0.8) (1.5.0)\n",
      "Requirement already satisfied: six>=1.9.0 in /Users/mac/opt/anaconda3/lib/python3.7/site-packages (from keras->keras-contrib==2.0.8) (1.15.0)\n",
      "Requirement already satisfied: keras-applications>=1.0.6 in /Users/mac/opt/anaconda3/lib/python3.7/site-packages (from keras->keras-contrib==2.0.8) (1.0.8)\n",
      "Building wheels for collected packages: keras-contrib\n",
      "  Building wheel for keras-contrib (setup.py) ... \u001b[?25ldone\n",
      "\u001b[?25h  Created wheel for keras-contrib: filename=keras_contrib-2.0.8-py3-none-any.whl size=101064 sha256=6e6031d47c5b2f74a1cf3a628963878861deff2ed4642c7808c07c9132911e7f\n",
      "  Stored in directory: /private/var/folders/q9/pty21jc157l8w174dv7rhpr80000gn/T/pip-ephem-wheel-cache-8pjh0r21/wheels/bb/1f/f2/b57495012683b6b20bbae94a3915ec79753111452d79886abc\n",
      "Successfully built keras-contrib\n"
     ]
    }
   ],
   "source": [
    "# CRF 사용을 위한 keras-contirb 설치\n",
    "!pip install git+https://www.github.com/keras-team/keras-contrib.git"
   ]
  },
  {
   "cell_type": "markdown",
   "metadata": {
    "id": "Y3yqPO3xlWQ7"
   },
   "source": [
    "## 3. NER에 대한 이해와 전처리"
   ]
  },
  {
   "cell_type": "code",
   "execution_count": 2,
   "metadata": {
    "colab": {
     "base_uri": "https://localhost:8080/"
    },
    "id": "r2D95qnxE3qr",
    "outputId": "fc8d02a7-638e-4269-8f75-c8a2b9fa8e80"
   },
   "outputs": [
    {
     "name": "stderr",
     "output_type": "stream",
     "text": [
      "Using TensorFlow backend.\n",
      "/Users/mac/opt/anaconda3/lib/python3.7/site-packages/tensorflow/python/framework/dtypes.py:516: FutureWarning: Passing (type, 1) or '1type' as a synonym of type is deprecated; in a future version of numpy, it will be understood as (type, (1,)) / '(1,)type'.\n",
      "  _np_qint8 = np.dtype([(\"qint8\", np.int8, 1)])\n",
      "/Users/mac/opt/anaconda3/lib/python3.7/site-packages/tensorflow/python/framework/dtypes.py:517: FutureWarning: Passing (type, 1) or '1type' as a synonym of type is deprecated; in a future version of numpy, it will be understood as (type, (1,)) / '(1,)type'.\n",
      "  _np_quint8 = np.dtype([(\"quint8\", np.uint8, 1)])\n",
      "/Users/mac/opt/anaconda3/lib/python3.7/site-packages/tensorflow/python/framework/dtypes.py:518: FutureWarning: Passing (type, 1) or '1type' as a synonym of type is deprecated; in a future version of numpy, it will be understood as (type, (1,)) / '(1,)type'.\n",
      "  _np_qint16 = np.dtype([(\"qint16\", np.int16, 1)])\n",
      "/Users/mac/opt/anaconda3/lib/python3.7/site-packages/tensorflow/python/framework/dtypes.py:519: FutureWarning: Passing (type, 1) or '1type' as a synonym of type is deprecated; in a future version of numpy, it will be understood as (type, (1,)) / '(1,)type'.\n",
      "  _np_quint16 = np.dtype([(\"quint16\", np.uint16, 1)])\n",
      "/Users/mac/opt/anaconda3/lib/python3.7/site-packages/tensorflow/python/framework/dtypes.py:520: FutureWarning: Passing (type, 1) or '1type' as a synonym of type is deprecated; in a future version of numpy, it will be understood as (type, (1,)) / '(1,)type'.\n",
      "  _np_qint32 = np.dtype([(\"qint32\", np.int32, 1)])\n",
      "/Users/mac/opt/anaconda3/lib/python3.7/site-packages/tensorflow/python/framework/dtypes.py:525: FutureWarning: Passing (type, 1) or '1type' as a synonym of type is deprecated; in a future version of numpy, it will be understood as (type, (1,)) / '(1,)type'.\n",
      "  np_resource = np.dtype([(\"resource\", np.ubyte, 1)])\n",
      "/Users/mac/opt/anaconda3/lib/python3.7/site-packages/tensorboard/compat/tensorflow_stub/dtypes.py:541: FutureWarning: Passing (type, 1) or '1type' as a synonym of type is deprecated; in a future version of numpy, it will be understood as (type, (1,)) / '(1,)type'.\n",
      "  _np_qint8 = np.dtype([(\"qint8\", np.int8, 1)])\n",
      "/Users/mac/opt/anaconda3/lib/python3.7/site-packages/tensorboard/compat/tensorflow_stub/dtypes.py:542: FutureWarning: Passing (type, 1) or '1type' as a synonym of type is deprecated; in a future version of numpy, it will be understood as (type, (1,)) / '(1,)type'.\n",
      "  _np_quint8 = np.dtype([(\"quint8\", np.uint8, 1)])\n",
      "/Users/mac/opt/anaconda3/lib/python3.7/site-packages/tensorboard/compat/tensorflow_stub/dtypes.py:543: FutureWarning: Passing (type, 1) or '1type' as a synonym of type is deprecated; in a future version of numpy, it will be understood as (type, (1,)) / '(1,)type'.\n",
      "  _np_qint16 = np.dtype([(\"qint16\", np.int16, 1)])\n",
      "/Users/mac/opt/anaconda3/lib/python3.7/site-packages/tensorboard/compat/tensorflow_stub/dtypes.py:544: FutureWarning: Passing (type, 1) or '1type' as a synonym of type is deprecated; in a future version of numpy, it will be understood as (type, (1,)) / '(1,)type'.\n",
      "  _np_quint16 = np.dtype([(\"quint16\", np.uint16, 1)])\n",
      "/Users/mac/opt/anaconda3/lib/python3.7/site-packages/tensorboard/compat/tensorflow_stub/dtypes.py:545: FutureWarning: Passing (type, 1) or '1type' as a synonym of type is deprecated; in a future version of numpy, it will be understood as (type, (1,)) / '(1,)type'.\n",
      "  _np_qint32 = np.dtype([(\"qint32\", np.int32, 1)])\n",
      "/Users/mac/opt/anaconda3/lib/python3.7/site-packages/tensorboard/compat/tensorflow_stub/dtypes.py:550: FutureWarning: Passing (type, 1) or '1type' as a synonym of type is deprecated; in a future version of numpy, it will be understood as (type, (1,)) / '(1,)type'.\n",
      "  np_resource = np.dtype([(\"resource\", np.ubyte, 1)])\n"
     ]
    }
   ],
   "source": [
    "import pandas as pd\n",
    "import numpy as np\n",
    "%matplotlib inline\n",
    "import matplotlib.pyplot as plt\n",
    "from keras.preprocessing.text import Tokenizer\n",
    "from keras.preprocessing.sequence import pad_sequences\n",
    "from sklearn.model_selection import train_test_split\n",
    "from keras.utils import to_categorical"
   ]
  },
  {
   "cell_type": "code",
   "execution_count": 3,
   "metadata": {},
   "outputs": [],
   "source": [
    "train_set = './data/msra_train_bio.txt'\n",
    "test_set = './data/msra_test_bio.txt'"
   ]
  },
  {
   "cell_type": "code",
   "execution_count": 4,
   "metadata": {},
   "outputs": [],
   "source": [
    "def raw_data_preprocessing(file_name):\n",
    "    tagged_sentences = []\n",
    "    sentence = []\n",
    "    with open(file_name,'r') as f:\n",
    "        for line in f.readlines():\n",
    "            if len(line) == 0 or line[0] == '\\n':\n",
    "                if len(sentence) > 0:\n",
    "                    tagged_sentences.append(sentence)\n",
    "                    sentence = []\n",
    "                continue\n",
    "            if line =='0\\t\\n':\n",
    "                continue\n",
    "            word, ner_tag = line.strip().split('\\t') \n",
    "            sentence.append([word, ner_tag]) # 단어와 개체명 태깅만 기록\n",
    "    return tagged_sentences"
   ]
  },
  {
   "cell_type": "code",
   "execution_count": 5,
   "metadata": {},
   "outputs": [],
   "source": [
    "train_sents = raw_data_preprocessing(train_set)\n",
    "test_sents = raw_data_preprocessing(test_set)"
   ]
  },
  {
   "cell_type": "code",
   "execution_count": 6,
   "metadata": {},
   "outputs": [],
   "source": [
    "# sentence, ner_tag 분리\n",
    "def separate_sent_tag(tagged_sentences):\n",
    "    sentences,  ner_tags = [], []\n",
    "    for tagged_sentence in tagged_sentences:\n",
    "        sentence, tag_info = zip(*tagged_sentence)\n",
    "        sentences.append(list(sentence))\n",
    "        ner_tags.append(list(tag_info))\n",
    "    return sentences, ner_tags"
   ]
  },
  {
   "cell_type": "code",
   "execution_count": 7,
   "metadata": {},
   "outputs": [],
   "source": [
    "sentences, ner_tags = separate_sent_tag(train_sents)\n",
    "test_sentences, test_ner_tags = separate_sent_tag(test_sents)"
   ]
  },
  {
   "cell_type": "markdown",
   "metadata": {},
   "source": [
    "### train 데이터 확인"
   ]
  },
  {
   "cell_type": "code",
   "execution_count": 8,
   "metadata": {
    "colab": {
     "base_uri": "https://localhost:8080/",
     "height": 315
    },
    "id": "kv9PABEnEqRv",
    "outputId": "27e554c1-af3e-4508-f1a1-00f018dc1b4b"
   },
   "outputs": [
    {
     "name": "stdout",
     "output_type": "stream",
     "text": [
      "샘플의 최대 길이 : 746\n",
      "샘플의 평균 길이 : 48.255911\n"
     ]
    },
    {
     "data": {
      "image/png": "[encoded data removed]",
      "text/plain": [
       "<Figure size 432x288 with 1 Axes>"
      ]
     },
     "metadata": {
      "needs_background": "light"
     },
     "output_type": "display_data"
    }
   ],
   "source": [
    "# show the whole data\n",
    "print('샘플의 최대 길이 : %d' % max(len(l) for l in sentences))\n",
    "print('샘플의 평균 길이 : %f' % (sum(map(len, sentences))/len(sentences)))\n",
    "plt.hist([len(s) for s in sentences], bins=50)\n",
    "plt.xlabel('length of samples')\n",
    "plt.ylabel('number of samples')\n",
    "plt.show()"
   ]
  },
  {
   "cell_type": "markdown",
   "metadata": {},
   "source": [
    "### test 데이터 확인"
   ]
  },
  {
   "cell_type": "code",
   "execution_count": 9,
   "metadata": {},
   "outputs": [
    {
     "name": "stdout",
     "output_type": "stream",
     "text": [
      "샘플의 최대 길이 : 2427\n",
      "샘플의 평균 길이 : 50.145555\n"
     ]
    },
    {
     "data": {
      "image/png": "[encoded data removed]",
      "text/plain": [
       "<Figure size 432x288 with 1 Axes>"
      ]
     },
     "metadata": {
      "needs_background": "light"
     },
     "output_type": "display_data"
    }
   ],
   "source": [
    "# show the whole data\n",
    "print('샘플의 최대 길이 : %d' % max(len(l) for l in test_sentences))\n",
    "print('샘플의 평균 길이 : %f' % (sum(map(len, test_sentences))/len(test_sentences)))\n",
    "plt.hist([len(s) for s in test_sentences], bins=50)\n",
    "plt.xlabel('length of samples')\n",
    "plt.ylabel('number of samples')\n",
    "plt.show()"
   ]
  },
  {
   "cell_type": "code",
   "execution_count": 10,
   "metadata": {
    "colab": {
     "base_uri": "https://localhost:8080/"
    },
    "id": "d83tWe28mDEw",
    "outputId": "c537b3c5-101f-4f50-d63d-876e1c8032bd"
   },
   "outputs": [
    {
     "name": "stdout",
     "output_type": "stream",
     "text": [
      "단어 집합의 크기 : 4832\n",
      "개체명 태깅 정보 집합의 크기 : 8\n",
      "단어 OOV의 인덱스 : 1\n"
     ]
    }
   ],
   "source": [
    "# integer encoding using keras tokenizer\n",
    "src_tokenizer = Tokenizer(oov_token = 'OOV')\n",
    "src_tokenizer.fit_on_texts(sentences + test_sentences)\n",
    "tar_tokenizer = Tokenizer(lower=False)\n",
    "tar_tokenizer.fit_on_texts(ner_tags + test_ner_tags)\n",
    "\n",
    "vocab_size = len(src_tokenizer.word_index) + 1\n",
    "tag_size = len(tar_tokenizer.word_index) + 1\n",
    "print('단어 집합의 크기 : {}'.format(vocab_size))\n",
    "print('개체명 태깅 정보 집합의 크기 : {}'.format(tag_size))\n",
    "print('단어 OOV의 인덱스 : {}'.format(src_tokenizer.word_index['OOV']))\n",
    "\n",
    "# perform integer encoding\n",
    "X_data = src_tokenizer.texts_to_sequences(sentences)\n",
    "y_data = tar_tokenizer.texts_to_sequences(ner_tags)\n",
    "# perform integer encoding\n",
    "X_test = src_tokenizer.texts_to_sequences(test_sentences)\n",
    "y_test = tar_tokenizer.texts_to_sequences(test_ner_tags)\n",
    "\n",
    "# create the 'index to word\n",
    "word_to_index = src_tokenizer.word_index\n",
    "index_to_word = src_tokenizer.index_word\n",
    "ner_to_index = tar_tokenizer.word_index\n",
    "index_to_ner = tar_tokenizer.index_word\n",
    "index_to_ner[0] = 'PAD' # 0번째 key값에 임의 할당\n",
    "\n",
    "# padding\n",
    "max_len = 200\n",
    "X_data = pad_sequences(X_data, padding='post', maxlen=max_len)\n",
    "y_data = pad_sequences(y_data, padding='post', maxlen=max_len)\n",
    "X_test = pad_sequences(X_test, padding='post', maxlen=max_len)\n",
    "y_test = pad_sequences(y_test, padding='post', maxlen=max_len)"
   ]
  },
  {
   "cell_type": "code",
   "execution_count": 11,
   "metadata": {
    "colab": {
     "base_uri": "https://localhost:8080/"
    },
    "id": "5arppU73mDHA",
    "outputId": "484aae01-95f0-46a1-a21f-018c64d07d43"
   },
   "outputs": [
    {
     "name": "stdout",
     "output_type": "stream",
     "text": [
      "훈련 샘플 문장의 크기 : (45000, 200)\n",
      "훈련 샘플 레이블의 크기 : (45000, 200, 8)\n",
      "테스트 샘플 문장의 크기 : (3442, 200)\n",
      "테스트 샘플 레이블의 크기 : (3442, 200, 8)\n"
     ]
    }
   ],
   "source": [
    "# split the data 8 : 2 (train : test)\n",
    "X_train, y_train = X_data, y_data\n",
    "\n",
    "# one-hot encoding \n",
    "y_train = to_categorical(y_train, num_classes=tag_size)\n",
    "y_test = to_categorical(y_test, num_classes=tag_size)\n",
    "\n",
    "# cheack the dimension\n",
    "print('훈련 샘플 문장의 크기 : {}'.format(X_train.shape))\n",
    "print('훈련 샘플 레이블의 크기 : {}'.format(y_train.shape))\n",
    "print('테스트 샘플 문장의 크기 : {}'.format(X_test.shape))\n",
    "print('테스트 샘플 레이블의 크기 : {}'.format(y_test.shape))"
   ]
  },
  {
   "cell_type": "markdown",
   "metadata": {
    "id": "9xlJ2jI0mdQW"
   },
   "source": [
    "# 4. F1-score 측정 콜백 클래스\n",
    "\n",
    "\n"
   ]
  },
  {
   "cell_type": "code",
   "execution_count": 12,
   "metadata": {
    "colab": {
     "base_uri": "https://localhost:8080/"
    },
    "id": "2pBV1QO3qOq6",
    "outputId": "11c67074-588d-4fe2-a240-f1999812dfd4"
   },
   "outputs": [
    {
     "name": "stdout",
     "output_type": "stream",
     "text": [
      "Requirement already satisfied: seqeval in /Users/mac/opt/anaconda3/lib/python3.7/site-packages (1.2.2)\r\n",
      "Requirement already satisfied: numpy>=1.14.0 in /Users/mac/opt/anaconda3/lib/python3.7/site-packages (from seqeval) (1.19.1)\r\n",
      "Requirement already satisfied: scikit-learn>=0.21.3 in /Users/mac/opt/anaconda3/lib/python3.7/site-packages (from seqeval) (0.23.1)\r\n",
      "Requirement already satisfied: threadpoolctl>=2.0.0 in /Users/mac/opt/anaconda3/lib/python3.7/site-packages (from scikit-learn>=0.21.3->seqeval) (2.1.0)\r\n",
      "Requirement already satisfied: scipy>=0.19.1 in /Users/mac/opt/anaconda3/lib/python3.7/site-packages (from scikit-learn>=0.21.3->seqeval) (1.5.0)\r\n",
      "Requirement already satisfied: joblib>=0.11 in /Users/mac/opt/anaconda3/lib/python3.7/site-packages (from scikit-learn>=0.21.3->seqeval) (0.16.0)\r\n"
     ]
    }
   ],
   "source": [
    "!pip install seqeval"
   ]
  },
  {
   "cell_type": "code",
   "execution_count": 13,
   "metadata": {
    "id": "H_HsIN6hmdSn"
   },
   "outputs": [],
   "source": [
    "from keras.callbacks import Callback\n",
    "from seqeval.metrics import f1_score, classification_report"
   ]
  },
  {
   "cell_type": "code",
   "execution_count": 14,
   "metadata": {
    "id": "Nau34DF7mdU_"
   },
   "outputs": [],
   "source": [
    "class F1score(Callback):\n",
    "    def __init__(self, value = 0.0, use_char=True):\n",
    "        super(F1score, self).__init__()\n",
    "        self.value = value\n",
    "        self.use_char = use_char\n",
    "\n",
    "    def sequences_to_tags(self, sequences): # 예측값을 index_to_ner를 사용하여 태깅 정보로 변경하는 함수.\n",
    "      result = []\n",
    "      for sequence in sequences: # 전체 시퀀스로부터 시퀀스를 하나씩 꺼낸다.\n",
    "          tag = []\n",
    "          for pred in sequence: # 시퀀스로부터 예측값을 하나씩 꺼낸다.\n",
    "              pred_index = np.argmax(pred) # 예를 들어 [0, 0, 1, 0 ,0]라면 1의 인덱스인 2를 리턴한다.\n",
    "              tag.append(index_to_ner[pred_index].replace(\"PAD\", \"O\")) # 'PAD'는 'O'로 변경\n",
    "          result.append(tag)\n",
    "      return result\n",
    "\n",
    "    # 에포크가 끝날 때마다 실행되는 함수\n",
    "    def on_epoch_end(self, epoch, logs={}):\n",
    "\n",
    "      # char Embedding을 사용하는 경우\n",
    "      if self.use_char:\n",
    "        X_test = self.validation_data[0]\n",
    "        X_char_test = self.validation_data[1]\n",
    "        y_test = self.validation_data[2]\n",
    "        y_predicted = self.model.predict([X_test, X_char_test])\n",
    "\n",
    "      else:\n",
    "        X_test = self.validation_data[0]\n",
    "        y_test = self.validation_data[1]\n",
    "        y_predicted = self.model.predict([X_test])\n",
    "\n",
    "      pred_tags = self.sequences_to_tags(y_predicted)\n",
    "      test_tags = self.sequences_to_tags(y_test)\n",
    "\n",
    "      score = f1_score(pred_tags, test_tags)\n",
    "      print(' - f1: {:04.2f}'.format(score * 100))\n",
    "      print(classification_report(test_tags, pred_tags))\n",
    "\n",
    "      # F1-score가 지금까지 중 가장 높은 경우\n",
    "      if score > self.value:\n",
    "        print('f1_score improved from %f to %f, saving model to best_model.h5'%(self.value, score))\n",
    "        self.model.save('best_model.h5')\n",
    "        self.value = score\n",
    "      else:\n",
    "        print('f1_score did not improve from %f'%(self.value))"
   ]
  },
  {
   "cell_type": "markdown",
   "metadata": {
    "id": "RHrQPWC5Eg15"
   },
   "source": [
    "## 5. BiLSTM+CRF를 이용한 NER\n"
   ]
  },
  {
   "cell_type": "code",
   "execution_count": 15,
   "metadata": {
    "id": "KX3V1lPTEAKd"
   },
   "outputs": [],
   "source": [
    "from keras.models import Sequential\n",
    "from keras.layers import LSTM, Embedding, Dense, TimeDistributed, Dropout, Bidirectional\n",
    "from keras.models import load_model\n",
    "from keras_contrib.layers import CRF\n",
    "from keras_contrib.losses import crf_loss\n",
    "from keras_contrib.metrics import crf_viterbi_accuracy"
   ]
  },
  {
   "cell_type": "code",
   "execution_count": 16,
   "metadata": {
    "colab": {
     "base_uri": "https://localhost:8080/"
    },
    "id": "TfLIFp-GEZrZ",
    "outputId": "542fea46-1183-4ab6-f671-89c3f21488de"
   },
   "outputs": [
    {
     "name": "stdout",
     "output_type": "stream",
     "text": [
      "WARNING:tensorflow:From /Users/mac/opt/anaconda3/lib/python3.7/site-packages/keras/backend/tensorflow_backend.py:74: The name tf.get_default_graph is deprecated. Please use tf.compat.v1.get_default_graph instead.\n",
      "\n",
      "WARNING:tensorflow:From /Users/mac/opt/anaconda3/lib/python3.7/site-packages/keras/backend/tensorflow_backend.py:517: The name tf.placeholder is deprecated. Please use tf.compat.v1.placeholder instead.\n",
      "\n",
      "WARNING:tensorflow:From /Users/mac/opt/anaconda3/lib/python3.7/site-packages/keras/backend/tensorflow_backend.py:4138: The name tf.random_uniform is deprecated. Please use tf.random.uniform instead.\n",
      "\n",
      "WARNING:tensorflow:From /Users/mac/opt/anaconda3/lib/python3.7/site-packages/keras/backend/tensorflow_backend.py:2974: add_dispatch_support.<locals>.wrapper (from tensorflow.python.ops.array_ops) is deprecated and will be removed in a future version.\n",
      "Instructions for updating:\n",
      "Use tf.where in 2.0, which has the same broadcast rule as np.where\n",
      "WARNING:tensorflow:From /Users/mac/opt/anaconda3/lib/python3.7/site-packages/keras/backend/tensorflow_backend.py:133: The name tf.placeholder_with_default is deprecated. Please use tf.compat.v1.placeholder_with_default instead.\n",
      "\n"
     ]
    }
   ],
   "source": [
    "model = Sequential()\n",
    "model.add(Embedding(input_dim=vocab_size, output_dim=64, input_length=max_len, mask_zero=True))\n",
    "model.add(Bidirectional(LSTM(128, return_sequences=True)))\n",
    "model.add(TimeDistributed(Dense(50, activation=\"relu\")))\n",
    "crf = CRF(tag_size)\n",
    "model.add(crf)"
   ]
  },
  {
   "cell_type": "code",
   "execution_count": 17,
   "metadata": {
    "colab": {
     "base_uri": "https://localhost:8080/"
    },
    "id": "N_B3kPXxELba",
    "outputId": "ea40fd90-9278-4e1d-f7ab-2be1e78e9854"
   },
   "outputs": [
    {
     "name": "stdout",
     "output_type": "stream",
     "text": [
      "WARNING:tensorflow:From /Users/mac/opt/anaconda3/lib/python3.7/site-packages/keras/optimizers.py:790: The name tf.train.Optimizer is deprecated. Please use tf.compat.v1.train.Optimizer instead.\n",
      "\n"
     ]
    },
    {
     "name": "stderr",
     "output_type": "stream",
     "text": [
      "/Users/mac/opt/anaconda3/lib/python3.7/site-packages/keras_contrib/layers/crf.py:346: UserWarning: CRF.loss_function is deprecated and it might be removed in the future. Please use losses.crf_loss instead.\n",
      "  warnings.warn('CRF.loss_function is deprecated '\n",
      "/Users/mac/opt/anaconda3/lib/python3.7/site-packages/keras_contrib/layers/crf.py:353: UserWarning: CRF.accuracy is deprecated and it might be removed in the future. Please use metrics.crf_accuracy\n",
      "  warnings.warn('CRF.accuracy is deprecated and it '\n"
     ]
    },
    {
     "name": "stdout",
     "output_type": "stream",
     "text": [
      "WARNING:tensorflow:From /Users/mac/opt/anaconda3/lib/python3.7/site-packages/keras/backend/tensorflow_backend.py:986: The name tf.assign_add is deprecated. Please use tf.compat.v1.assign_add instead.\n",
      "\n",
      "Train on 40500 samples, validate on 4500 samples\n",
      "Epoch 1/30\n",
      "40500/40500 [==============================] - 346s 9ms/step - loss: 9.4183 - crf_viterbi_accuracy: 0.9256 - val_loss: 9.5323 - val_crf_viterbi_accuracy: 0.9691\n",
      " - f1: 53.45\n",
      "              precision    recall  f1-score   support\n",
      "\n",
      "         LOC       0.52      0.53      0.53      1709\n",
      "         ORG       0.48      0.40      0.44      1093\n",
      "         PER       0.73      0.54      0.62      1512\n",
      "\n",
      "   micro avg       0.57      0.50      0.53      4314\n",
      "   macro avg       0.58      0.49      0.53      4314\n",
      "weighted avg       0.58      0.50      0.54      4314\n",
      "\n",
      "f1_score improved from 0.000000 to 0.534521, saving model to best_model.h5\n",
      "Epoch 2/30\n",
      "40500/40500 [==============================] - 347s 9ms/step - loss: 9.2668 - crf_viterbi_accuracy: 0.9663 - val_loss: 9.5094 - val_crf_viterbi_accuracy: 0.9754\n",
      " - f1: 66.29\n",
      "              precision    recall  f1-score   support\n",
      "\n",
      "         LOC       0.72      0.61      0.66      1709\n",
      "         ORG       0.68      0.46      0.55      1093\n",
      "         PER       0.82      0.67      0.74      1512\n",
      "\n",
      "   micro avg       0.75      0.59      0.66      4314\n",
      "   macro avg       0.74      0.58      0.65      4314\n",
      "weighted avg       0.75      0.59      0.66      4314\n",
      "\n",
      "f1_score improved from 0.534521 to 0.662875, saving model to best_model.h5\n",
      "Epoch 3/30\n",
      "40500/40500 [==============================] - 356s 9ms/step - loss: 9.2414 - crf_viterbi_accuracy: 0.9749 - val_loss: 9.4990 - val_crf_viterbi_accuracy: 0.9765\n",
      " - f1: 69.79\n",
      "              precision    recall  f1-score   support\n",
      "\n",
      "         LOC       0.68      0.68      0.68      1709\n",
      "         ORG       0.68      0.59      0.63      1093\n",
      "         PER       0.81      0.72      0.76      1512\n",
      "\n",
      "   micro avg       0.73      0.67      0.70      4314\n",
      "   macro avg       0.73      0.66      0.69      4314\n",
      "weighted avg       0.73      0.67      0.70      4314\n",
      "\n",
      "f1_score improved from 0.662875 to 0.697888, saving model to best_model.h5\n",
      "Epoch 4/30\n",
      "40500/40500 [==============================] - 352s 9ms/step - loss: 9.2296 - crf_viterbi_accuracy: 0.9791 - val_loss: 9.4949 - val_crf_viterbi_accuracy: 0.9778\n",
      " - f1: 72.37\n",
      "              precision    recall  f1-score   support\n",
      "\n",
      "         LOC       0.72      0.72      0.72      1709\n",
      "         ORG       0.78      0.56      0.65      1093\n",
      "         PER       0.83      0.73      0.78      1512\n",
      "\n",
      "   micro avg       0.77      0.68      0.72      4314\n",
      "   macro avg       0.78      0.67      0.72      4314\n",
      "weighted avg       0.77      0.68      0.72      4314\n",
      "\n",
      "f1_score improved from 0.697888 to 0.723697, saving model to best_model.h5\n",
      "Epoch 5/30\n",
      "40500/40500 [==============================] - 352s 9ms/step - loss: 9.2227 - crf_viterbi_accuracy: 0.9827 - val_loss: 9.4928 - val_crf_viterbi_accuracy: 0.9792\n",
      " - f1: 73.54\n",
      "              precision    recall  f1-score   support\n",
      "\n",
      "         LOC       0.77      0.73      0.75      1709\n",
      "         ORG       0.71      0.63      0.67      1093\n",
      "         PER       0.83      0.73      0.77      1512\n",
      "\n",
      "   micro avg       0.77      0.70      0.74      4314\n",
      "   macro avg       0.77      0.69      0.73      4314\n",
      "weighted avg       0.77      0.70      0.74      4314\n",
      "\n",
      "f1_score improved from 0.723697 to 0.735358, saving model to best_model.h5\n",
      "Epoch 6/30\n",
      "40500/40500 [==============================] - 353s 9ms/step - loss: 9.2179 - crf_viterbi_accuracy: 0.9851 - val_loss: 9.4909 - val_crf_viterbi_accuracy: 0.9791\n",
      " - f1: 74.51\n",
      "              precision    recall  f1-score   support\n",
      "\n",
      "         LOC       0.75      0.74      0.75      1709\n",
      "         ORG       0.73      0.63      0.68      1093\n",
      "         PER       0.85      0.74      0.79      1512\n",
      "\n",
      "   micro avg       0.78      0.71      0.75      4314\n",
      "   macro avg       0.78      0.71      0.74      4314\n",
      "weighted avg       0.78      0.71      0.74      4314\n",
      "\n",
      "f1_score improved from 0.735358 to 0.745074, saving model to best_model.h5\n",
      "Epoch 7/30\n",
      "40500/40500 [==============================] - 350s 9ms/step - loss: 9.2144 - crf_viterbi_accuracy: 0.9873 - val_loss: 9.4930 - val_crf_viterbi_accuracy: 0.9790\n",
      " - f1: 74.15\n",
      "              precision    recall  f1-score   support\n",
      "\n",
      "         LOC       0.72      0.78      0.75      1709\n",
      "         ORG       0.71      0.65      0.68      1093\n",
      "         PER       0.86      0.72      0.78      1512\n",
      "\n",
      "   micro avg       0.76      0.72      0.74      4314\n",
      "   macro avg       0.76      0.71      0.74      4314\n",
      "weighted avg       0.76      0.72      0.74      4314\n",
      "\n",
      "f1_score did not improve from 0.745074\n",
      "Epoch 8/30\n",
      "40500/40500 [==============================] - 334s 8ms/step - loss: 9.2116 - crf_viterbi_accuracy: 0.9893 - val_loss: 9.4924 - val_crf_viterbi_accuracy: 0.9818\n",
      " - f1: 77.40\n",
      "              precision    recall  f1-score   support\n",
      "\n",
      "         LOC       0.82      0.73      0.77      1709\n",
      "         ORG       0.79      0.65      0.71      1093\n",
      "         PER       0.86      0.78      0.82      1512\n",
      "\n",
      "   micro avg       0.83      0.73      0.77      4314\n",
      "   macro avg       0.82      0.72      0.77      4314\n",
      "weighted avg       0.83      0.73      0.77      4314\n",
      "\n",
      "f1_score improved from 0.745074 to 0.773955, saving model to best_model.h5\n",
      "Epoch 9/30\n",
      "40500/40500 [==============================] - 330s 8ms/step - loss: 9.2093 - crf_viterbi_accuracy: 0.9912 - val_loss: 9.4948 - val_crf_viterbi_accuracy: 0.9802\n",
      " - f1: 76.44\n",
      "              precision    recall  f1-score   support\n",
      "\n",
      "         LOC       0.79      0.73      0.76      1709\n",
      "         ORG       0.76      0.65      0.70      1093\n",
      "         PER       0.87      0.77      0.81      1512\n",
      "\n",
      "   micro avg       0.81      0.72      0.76      4314\n",
      "   macro avg       0.81      0.71      0.76      4314\n",
      "weighted avg       0.81      0.72      0.76      4314\n",
      "\n",
      "f1_score did not improve from 0.773955\n",
      "Epoch 10/30\n",
      "40500/40500 [==============================] - 332s 8ms/step - loss: 9.2073 - crf_viterbi_accuracy: 0.9926 - val_loss: 9.4970 - val_crf_viterbi_accuracy: 0.9807\n",
      " - f1: 77.16\n",
      "              precision    recall  f1-score   support\n",
      "\n",
      "         LOC       0.77      0.77      0.77      1709\n",
      "         ORG       0.76      0.69      0.73      1093\n",
      "         PER       0.83      0.79      0.81      1512\n",
      "\n",
      "   micro avg       0.79      0.76      0.77      4314\n",
      "   macro avg       0.79      0.75      0.77      4314\n",
      "weighted avg       0.79      0.76      0.77      4314\n",
      "\n",
      "f1_score did not improve from 0.773955\n",
      "Epoch 11/30\n",
      "40500/40500 [==============================] - 335s 8ms/step - loss: 9.2056 - crf_viterbi_accuracy: 0.9941 - val_loss: 9.4981 - val_crf_viterbi_accuracy: 0.9803\n",
      " - f1: 76.62\n",
      "              precision    recall  f1-score   support\n",
      "\n",
      "         LOC       0.76      0.76      0.76      1709\n",
      "         ORG       0.76      0.69      0.73      1093\n",
      "         PER       0.84      0.77      0.80      1512\n",
      "\n",
      "   micro avg       0.79      0.75      0.77      4314\n",
      "   macro avg       0.79      0.74      0.76      4314\n",
      "weighted avg       0.79      0.75      0.77      4314\n",
      "\n",
      "f1_score did not improve from 0.773955\n",
      "Epoch 12/30\n",
      "40500/40500 [==============================] - 344s 8ms/step - loss: 9.2045 - crf_viterbi_accuracy: 0.9953 - val_loss: 9.5035 - val_crf_viterbi_accuracy: 0.9796\n",
      " - f1: 76.43\n",
      "              precision    recall  f1-score   support\n",
      "\n",
      "         LOC       0.78      0.76      0.77      1709\n",
      "         ORG       0.74      0.70      0.72      1093\n",
      "         PER       0.80      0.79      0.79      1512\n",
      "\n",
      "   micro avg       0.77      0.75      0.76      4314\n",
      "   macro avg       0.77      0.75      0.76      4314\n",
      "weighted avg       0.77      0.75      0.76      4314\n",
      "\n",
      "f1_score did not improve from 0.773955\n",
      "Epoch 13/30\n",
      "40500/40500 [==============================] - 346s 9ms/step - loss: 9.2036 - crf_viterbi_accuracy: 0.9960 - val_loss: 9.5039 - val_crf_viterbi_accuracy: 0.9798\n",
      " - f1: 76.53\n",
      "              precision    recall  f1-score   support\n",
      "\n",
      "         LOC       0.73      0.79      0.76      1709\n",
      "         ORG       0.74      0.68      0.71      1093\n",
      "         PER       0.84      0.79      0.81      1512\n",
      "\n",
      "   micro avg       0.77      0.76      0.77      4314\n",
      "   macro avg       0.77      0.75      0.76      4314\n",
      "weighted avg       0.77      0.76      0.77      4314\n",
      "\n",
      "f1_score did not improve from 0.773955\n",
      "Epoch 14/30\n"
     ]
    },
    {
     "name": "stdout",
     "output_type": "stream",
     "text": [
      "40500/40500 [==============================] - 350s 9ms/step - loss: 9.2027 - crf_viterbi_accuracy: 0.9970 - val_loss: 9.5062 - val_crf_viterbi_accuracy: 0.9802\n",
      " - f1: 76.93\n",
      "              precision    recall  f1-score   support\n",
      "\n",
      "         LOC       0.77      0.76      0.77      1709\n",
      "         ORG       0.72      0.70      0.71      1093\n",
      "         PER       0.85      0.79      0.82      1512\n",
      "\n",
      "   micro avg       0.78      0.76      0.77      4314\n",
      "   macro avg       0.78      0.75      0.76      4314\n",
      "weighted avg       0.78      0.76      0.77      4314\n",
      "\n",
      "f1_score did not improve from 0.773955\n",
      "Epoch 15/30\n",
      "40500/40500 [==============================] - 345s 9ms/step - loss: 9.2022 - crf_viterbi_accuracy: 0.9975 - val_loss: 9.5114 - val_crf_viterbi_accuracy: 0.9800\n",
      " - f1: 76.07\n",
      "              precision    recall  f1-score   support\n",
      "\n",
      "         LOC       0.77      0.75      0.76      1709\n",
      "         ORG       0.73      0.71      0.72      1093\n",
      "         PER       0.86      0.74      0.79      1512\n",
      "\n",
      "   micro avg       0.79      0.74      0.76      4314\n",
      "   macro avg       0.78      0.73      0.76      4314\n",
      "weighted avg       0.79      0.74      0.76      4314\n",
      "\n",
      "f1_score did not improve from 0.773955\n",
      "Epoch 16/30\n",
      "40500/40500 [==============================] - 342s 8ms/step - loss: 9.2021 - crf_viterbi_accuracy: 0.9976 - val_loss: 9.5142 - val_crf_viterbi_accuracy: 0.9805\n",
      " - f1: 76.79\n",
      "              precision    recall  f1-score   support\n",
      "\n",
      "         LOC       0.79      0.75      0.77      1709\n",
      "         ORG       0.70      0.74      0.72      1093\n",
      "         PER       0.83      0.78      0.80      1512\n",
      "\n",
      "   micro avg       0.78      0.76      0.77      4314\n",
      "   macro avg       0.77      0.76      0.76      4314\n",
      "weighted avg       0.78      0.76      0.77      4314\n",
      "\n",
      "f1_score did not improve from 0.773955\n",
      "Epoch 17/30\n",
      "40500/40500 [==============================] - 341s 8ms/step - loss: 9.2016 - crf_viterbi_accuracy: 0.9982 - val_loss: 9.5158 - val_crf_viterbi_accuracy: 0.9812\n",
      " - f1: 77.17\n",
      "              precision    recall  f1-score   support\n",
      "\n",
      "         LOC       0.79      0.76      0.77      1709\n",
      "         ORG       0.74      0.68      0.71      1093\n",
      "         PER       0.86      0.78      0.82      1512\n",
      "\n",
      "   micro avg       0.80      0.75      0.77      4314\n",
      "   macro avg       0.79      0.74      0.77      4314\n",
      "weighted avg       0.80      0.75      0.77      4314\n",
      "\n",
      "f1_score did not improve from 0.773955\n",
      "Epoch 18/30\n",
      "40500/40500 [==============================] - 330s 8ms/step - loss: 9.2014 - crf_viterbi_accuracy: 0.9983 - val_loss: 9.5208 - val_crf_viterbi_accuracy: 0.9806\n",
      " - f1: 77.26\n",
      "              precision    recall  f1-score   support\n",
      "\n",
      "         LOC       0.78      0.75      0.77      1709\n",
      "         ORG       0.78      0.66      0.71      1093\n",
      "         PER       0.88      0.77      0.82      1512\n",
      "\n",
      "   micro avg       0.81      0.73      0.77      4314\n",
      "   macro avg       0.81      0.73      0.77      4314\n",
      "weighted avg       0.82      0.73      0.77      4314\n",
      "\n",
      "f1_score did not improve from 0.773955\n",
      "Epoch 19/30\n",
      "40500/40500 [==============================] - 349s 9ms/step - loss: 9.2013 - crf_viterbi_accuracy: 0.9985 - val_loss: 9.5185 - val_crf_viterbi_accuracy: 0.9804\n",
      " - f1: 76.80\n",
      "              precision    recall  f1-score   support\n",
      "\n",
      "         LOC       0.79      0.74      0.77      1709\n",
      "         ORG       0.71      0.71      0.71      1093\n",
      "         PER       0.87      0.76      0.81      1512\n",
      "\n",
      "   micro avg       0.80      0.74      0.77      4314\n",
      "   macro avg       0.79      0.74      0.76      4314\n",
      "weighted avg       0.80      0.74      0.77      4314\n",
      "\n",
      "f1_score did not improve from 0.773955\n",
      "Epoch 20/30\n",
      "40500/40500 [==============================] - 340s 8ms/step - loss: 9.2011 - crf_viterbi_accuracy: 0.9987 - val_loss: 9.5208 - val_crf_viterbi_accuracy: 0.9810\n",
      " - f1: 77.23\n",
      "              precision    recall  f1-score   support\n",
      "\n",
      "         LOC       0.80      0.75      0.78      1709\n",
      "         ORG       0.73      0.71      0.72      1093\n",
      "         PER       0.83      0.79      0.81      1512\n",
      "\n",
      "   micro avg       0.79      0.76      0.77      4314\n",
      "   macro avg       0.78      0.75      0.77      4314\n",
      "weighted avg       0.79      0.76      0.77      4314\n",
      "\n",
      "f1_score did not improve from 0.773955\n",
      "Epoch 21/30\n",
      "40500/40500 [==============================] - 341s 8ms/step - loss: 9.2011 - crf_viterbi_accuracy: 0.9987 - val_loss: 9.5202 - val_crf_viterbi_accuracy: 0.9804\n",
      " - f1: 77.60\n",
      "              precision    recall  f1-score   support\n",
      "\n",
      "         LOC       0.77      0.76      0.77      1709\n",
      "         ORG       0.72      0.73      0.72      1093\n",
      "         PER       0.87      0.78      0.83      1512\n",
      "\n",
      "   micro avg       0.79      0.76      0.78      4314\n",
      "   macro avg       0.79      0.76      0.77      4314\n",
      "weighted avg       0.79      0.76      0.78      4314\n",
      "\n",
      "f1_score improved from 0.773955 to 0.775954, saving model to best_model.h5\n",
      "Epoch 22/30\n",
      "40500/40500 [==============================] - 343s 8ms/step - loss: 9.2012 - crf_viterbi_accuracy: 0.9986 - val_loss: 9.5207 - val_crf_viterbi_accuracy: 0.9814\n",
      " - f1: 77.54\n",
      "              precision    recall  f1-score   support\n",
      "\n",
      "         LOC       0.78      0.76      0.77      1709\n",
      "         ORG       0.77      0.69      0.73      1093\n",
      "         PER       0.86      0.79      0.82      1512\n",
      "\n",
      "   micro avg       0.80      0.75      0.78      4314\n",
      "   macro avg       0.80      0.74      0.77      4314\n",
      "weighted avg       0.80      0.75      0.78      4314\n",
      "\n",
      "f1_score did not improve from 0.775954\n",
      "Epoch 23/30\n",
      "40500/40500 [==============================] - 341s 8ms/step - loss: 9.2008 - crf_viterbi_accuracy: 0.9991 - val_loss: 9.5238 - val_crf_viterbi_accuracy: 0.9817\n",
      " - f1: 78.12\n",
      "              precision    recall  f1-score   support\n",
      "\n",
      "         LOC       0.79      0.77      0.78      1709\n",
      "         ORG       0.77      0.70      0.73      1093\n",
      "         PER       0.85      0.79      0.82      1512\n",
      "\n",
      "   micro avg       0.81      0.76      0.78      4314\n",
      "   macro avg       0.80      0.75      0.78      4314\n",
      "weighted avg       0.81      0.76      0.78      4314\n",
      "\n",
      "f1_score improved from 0.775954 to 0.781153, saving model to best_model.h5\n",
      "Epoch 24/30\n",
      "40500/40500 [==============================] - 341s 8ms/step - loss: 9.2008 - crf_viterbi_accuracy: 0.9991 - val_loss: 9.5229 - val_crf_viterbi_accuracy: 0.9812\n",
      " - f1: 78.05\n",
      "              precision    recall  f1-score   support\n",
      "\n",
      "         LOC       0.80      0.76      0.78      1709\n",
      "         ORG       0.74      0.71      0.73      1093\n",
      "         PER       0.87      0.78      0.82      1512\n",
      "\n",
      "   micro avg       0.81      0.75      0.78      4314\n",
      "   macro avg       0.80      0.75      0.78      4314\n",
      "weighted avg       0.81      0.75      0.78      4314\n",
      "\n",
      "f1_score did not improve from 0.781153\n",
      "Epoch 25/30\n",
      "40500/40500 [==============================] - 342s 8ms/step - loss: 9.2009 - crf_viterbi_accuracy: 0.9989 - val_loss: 9.5285 - val_crf_viterbi_accuracy: 0.9805\n",
      " - f1: 77.08\n",
      "              precision    recall  f1-score   support\n",
      "\n",
      "         LOC       0.76      0.78      0.77      1709\n",
      "         ORG       0.79      0.65      0.71      1093\n",
      "         PER       0.86      0.77      0.81      1512\n",
      "\n",
      "   micro avg       0.80      0.74      0.77      4314\n",
      "   macro avg       0.80      0.73      0.77      4314\n",
      "weighted avg       0.80      0.74      0.77      4314\n",
      "\n",
      "f1_score did not improve from 0.781153\n",
      "Epoch 26/30\n",
      "40500/40500 [==============================] - 341s 8ms/step - loss: 9.2009 - crf_viterbi_accuracy: 0.9989 - val_loss: 9.5232 - val_crf_viterbi_accuracy: 0.9808\n",
      " - f1: 76.97\n",
      "              precision    recall  f1-score   support\n",
      "\n",
      "         LOC       0.79      0.77      0.78      1709\n",
      "         ORG       0.71      0.71      0.71      1093\n",
      "         PER       0.85      0.76      0.80      1512\n",
      "\n",
      "   micro avg       0.79      0.75      0.77      4314\n",
      "   macro avg       0.79      0.75      0.76      4314\n",
      "weighted avg       0.79      0.75      0.77      4314\n",
      "\n",
      "f1_score did not improve from 0.781153\n",
      "Epoch 27/30\n",
      "40500/40500 [==============================] - 339s 8ms/step - loss: 9.2006 - crf_viterbi_accuracy: 0.9994 - val_loss: 9.5250 - val_crf_viterbi_accuracy: 0.9808\n",
      " - f1: 77.87\n",
      "              precision    recall  f1-score   support\n",
      "\n",
      "         LOC       0.78      0.77      0.78      1709\n",
      "         ORG       0.74      0.73      0.74      1093\n",
      "         PER       0.84      0.78      0.81      1512\n",
      "\n",
      "   micro avg       0.79      0.77      0.78      4314\n",
      "   macro avg       0.79      0.76      0.78      4314\n",
      "weighted avg       0.79      0.77      0.78      4314\n",
      "\n",
      "f1_score did not improve from 0.781153\n",
      "Epoch 28/30\n"
     ]
    },
    {
     "name": "stdout",
     "output_type": "stream",
     "text": [
      "40500/40500 [==============================] - 340s 8ms/step - loss: 9.2008 - crf_viterbi_accuracy: 0.9990 - val_loss: 9.5324 - val_crf_viterbi_accuracy: 0.9807\n",
      " - f1: 76.94\n",
      "              precision    recall  f1-score   support\n",
      "\n",
      "         LOC       0.74      0.79      0.76      1709\n",
      "         ORG       0.81      0.65      0.72      1093\n",
      "         PER       0.84      0.79      0.81      1512\n",
      "\n",
      "   micro avg       0.79      0.75      0.77      4314\n",
      "   macro avg       0.79      0.74      0.76      4314\n",
      "weighted avg       0.79      0.75      0.77      4314\n",
      "\n",
      "f1_score did not improve from 0.781153\n",
      "Epoch 29/30\n",
      "40500/40500 [==============================] - 342s 8ms/step - loss: 9.2008 - crf_viterbi_accuracy: 0.9992 - val_loss: 9.5272 - val_crf_viterbi_accuracy: 0.9817\n",
      " - f1: 78.10\n",
      "              precision    recall  f1-score   support\n",
      "\n",
      "         LOC       0.80      0.77      0.78      1709\n",
      "         ORG       0.75      0.72      0.73      1093\n",
      "         PER       0.87      0.77      0.81      1512\n",
      "\n",
      "   micro avg       0.81      0.75      0.78      4314\n",
      "   macro avg       0.81      0.75      0.78      4314\n",
      "weighted avg       0.81      0.75      0.78      4314\n",
      "\n",
      "f1_score did not improve from 0.781153\n",
      "Epoch 30/30\n",
      "40500/40500 [==============================] - 340s 8ms/step - loss: 9.2007 - crf_viterbi_accuracy: 0.9993 - val_loss: 9.5271 - val_crf_viterbi_accuracy: 0.9811\n",
      " - f1: 77.06\n",
      "              precision    recall  f1-score   support\n",
      "\n",
      "         LOC       0.76      0.78      0.77      1709\n",
      "         ORG       0.73      0.71      0.72      1093\n",
      "         PER       0.84      0.78      0.81      1512\n",
      "\n",
      "   micro avg       0.78      0.76      0.77      4314\n",
      "   macro avg       0.78      0.76      0.77      4314\n",
      "weighted avg       0.78      0.76      0.77      4314\n",
      "\n",
      "f1_score did not improve from 0.781153\n"
     ]
    }
   ],
   "source": [
    "model.compile(optimizer=\"adam\", loss=crf.loss_function, metrics=[crf.accuracy])\n",
    "results = model.fit(X_train, y_train, batch_size = 32, epochs = 30, validation_split = 0.1, verbose = 1, callbacks=[F1score(use_char=False)])"
   ]
  },
  {
   "cell_type": "code",
   "execution_count": 19,
   "metadata": {
    "id": "oy-NJ0-VELeG"
   },
   "outputs": [],
   "source": [
    "bilstm_crf_model = load_model('./model/best_model.h5', custom_objects={'CRF':CRF,\n",
    "                                                  'crf_loss':crf_loss,\n",
    "                                                  'crf_viterbi_accuracy':crf_viterbi_accuracy})"
   ]
  },
  {
   "cell_type": "code",
   "execution_count": 20,
   "metadata": {
    "colab": {
     "base_uri": "https://localhost:8080/"
    },
    "id": "jATgD1SBELgJ",
    "outputId": "33fc74f7-7bb6-46b8-c7a7-52cbbb30db43"
   },
   "outputs": [
    {
     "name": "stdout",
     "output_type": "stream",
     "text": [
      "단어             |실제값  |예측값\n",
      "-----------------------------------\n",
      "在                : O       O\n",
      "跨                : O       O\n",
      "世                : O       O\n",
      "纪                : O       O\n",
      "的                : O       O\n",
      "征                : O       O\n",
      "途                : O       O\n",
      "上                : O       O\n",
      "，                : O       O\n",
      "在                : O       O\n",
      "中                : B-ORG   B-ORG\n",
      "国                : I-ORG   I-ORG\n",
      "共                : I-ORG   I-ORG\n",
      "产                : I-ORG   I-ORG\n",
      "党                : I-ORG   I-ORG\n",
      "领                : O       O\n",
      "导                : O       O\n",
      "下                : O       O\n",
      "，                : O       O\n",
      "我                : O       O\n",
      "们                : O       O\n",
      "要                : O       O\n",
      "努                : O       O\n",
      "力                : O       O\n",
      "实                : O       O\n",
      "现                : O       O\n",
      "包                : O       O\n",
      "括                : O       O\n",
      "各                : O       O\n",
      "民                : O       O\n",
      "主                : O       O\n",
      "党                : O       O\n",
      "派                : O       O\n",
      "、                : O       O\n",
      "各                : O       O\n",
      "人                : O       O\n",
      "民                : O       O\n",
      "团                : O       O\n",
      "体                : O       O\n",
      "、                : O       O\n",
      "无                : O       O\n",
      "党                : O       O\n",
      "派                : O       O\n",
      "人                : O       O\n",
      "士                : O       O\n",
      "在                : O       O\n",
      "内                : O       O\n",
      "的                : O       O\n",
      "全                : O       O\n",
      "体                : O       O\n",
      "中                : B-LOC   B-LOC\n",
      "国                : I-LOC   I-LOC\n",
      "人                : O       O\n",
      "民                : O       O\n",
      "的                : O       O\n",
      "大                : O       O\n",
      "团                : O       O\n",
      "结                : O       O\n",
      "，                : O       O\n",
      "实                : O       O\n",
      "现                : O       O\n",
      "包                : O       O\n",
      "括                : O       O\n",
      "大                : B-LOC   B-LOC\n",
      "陆                : I-LOC   I-LOC\n",
      "同                : O       O\n",
      "胞                : O       O\n",
      "、                : O       O\n",
      "台                : B-LOC   B-LOC\n",
      "港                : B-LOC   B-LOC\n",
      "澳                : B-LOC   B-LOC\n",
      "同                : O       O\n",
      "胞                : O       O\n",
      "和                : O       O\n",
      "海                : O       O\n",
      "外                : O       O\n",
      "侨                : O       O\n",
      "胞                : O       O\n",
      "在                : O       O\n",
      "内                : O       O\n",
      "的                : O       O\n",
      "所                : O       O\n",
      "有                : O       O\n",
      "爱                : O       O\n",
      "国                : O       O\n",
      "的                : O       O\n",
      "中                : B-LOC   B-LOC\n",
      "华                : I-LOC   I-LOC\n",
      "儿                : O       O\n",
      "女                : O       O\n",
      "的                : O       O\n",
      "大                : O       O\n",
      "团                : O       O\n",
      "结                : O       O\n",
      "，                : O       O\n",
      "从                : O       O\n",
      "而                : O       O\n",
      "战                : O       O\n",
      "胜                : O       O\n",
      "各                : O       O\n",
      "种                : O       O\n",
      "艰                : O       O\n",
      "难                : O       O\n",
      "险                : O       O\n",
      "阻                : O       O\n",
      "，                : O       O\n",
      "实                : O       O\n",
      "现                : O       O\n",
      "跨                : O       O\n",
      "世                : O       O\n",
      "纪                : O       O\n",
      "的                : O       O\n",
      "宏                : O       O\n",
      "伟                : O       O\n",
      "蓝                : O       O\n",
      "图                : O       O\n",
      "。                : O       O\n"
     ]
    }
   ],
   "source": [
    "i=10 # 확인하고 싶은 테스트용 샘플의 인덱스.\n",
    "y_predicted = bilstm_crf_model.predict(np.array([X_test[i]])) # 입력한 테스트용 샘플에 대해서 예측 y를 리턴\n",
    "y_predicted = np.argmax(y_predicted, axis=-1) # 원-핫 인코딩을 다시 정수 인코딩으로 변경함.\n",
    "true = np.argmax(y_test[i], -1) # 원-핫 인코딩을 다시 정수 인코딩으로 변경함.\n",
    "\n",
    "print(\"{:15}|{:5}|{}\".format(\"단어\", \"실제값\", \"예측값\"))\n",
    "print(35 * \"-\")\n",
    "\n",
    "for w, t, pred in zip(X_test[i], true, y_predicted[0]):\n",
    "    if w != 0: # PAD값은 제외함.\n",
    "        print(\"{:17}: {:7} {}\".format(index_to_word[w], index_to_ner[t], index_to_ner[pred]))"
   ]
  },
  {
   "cell_type": "markdown",
   "metadata": {
    "id": "hwjFJwfDELid"
   },
   "source": [
    "## 6. 실제 모델에 대해서 f1-score 구하기기"
   ]
  },
  {
   "cell_type": "code",
   "execution_count": 22,
   "metadata": {
    "id": "dV7TpYrFELkq"
   },
   "outputs": [],
   "source": [
    "f1score = F1score(use_char=False)\n",
    "\n",
    "y_predicted = bilstm_crf_model.predict([X_test])\n",
    "pred_tags = f1score.sequences_to_tags(y_predicted)\n",
    "test_tags = f1score.sequences_to_tags(y_test)"
   ]
  },
  {
   "cell_type": "code",
   "execution_count": 23,
   "metadata": {
    "colab": {
     "base_uri": "https://localhost:8080/"
    },
    "id": "S3Jo0mJ3ELnL",
    "outputId": "385e942e-9496-47a3-b0cd-879ec2934627"
   },
   "outputs": [
    {
     "name": "stdout",
     "output_type": "stream",
     "text": [
      "F1-score: 84.1%\n"
     ]
    }
   ],
   "source": [
    "print(\"F1-score: {:.1%}\".format(f1_score(test_tags, pred_tags)))"
   ]
  },
  {
   "cell_type": "code",
   "execution_count": 24,
   "metadata": {
    "id": "5YgTLl_EELph"
   },
   "outputs": [
    {
     "name": "stdout",
     "output_type": "stream",
     "text": [
      "              precision    recall  f1-score   support\n",
      "\n",
      "         LOC       0.90      0.86      0.88      2811\n",
      "         ORG       0.78      0.74      0.76      1293\n",
      "         PER       0.84      0.83      0.84      1333\n",
      "\n",
      "   micro avg       0.86      0.83      0.84      5437\n",
      "   macro avg       0.84      0.81      0.83      5437\n",
      "weighted avg       0.86      0.83      0.84      5437\n",
      "\n"
     ]
    }
   ],
   "source": [
    "print(classification_report(test_tags, pred_tags))"
   ]
  },
  {
   "cell_type": "markdown",
   "metadata": {},
   "source": [
    "## Loss graph"
   ]
  },
  {
   "cell_type": "code",
   "execution_count": 28,
   "metadata": {},
   "outputs": [
    {
     "name": "stdout",
     "output_type": "stream",
     "text": [
      "dict_keys(['val_loss', 'val_crf_viterbi_accuracy', 'loss', 'crf_viterbi_accuracy'])\n"
     ]
    },
    {
     "data": {
      "image/png": "[encoded data removed]",
      "text/plain": [
       "<Figure size 432x288 with 1 Axes>"
      ]
     },
     "metadata": {
      "needs_background": "light"
     },
     "output_type": "display_data"
    },
    {
     "data": {
      "image/png": "[encoded data removed]",
      "text/plain": [
       "<Figure size 432x288 with 1 Axes>"
      ]
     },
     "metadata": {
      "needs_background": "light"
     },
     "output_type": "display_data"
    }
   ],
   "source": [
    "import matplotlib.pyplot as plt\n",
    "print(results.history.keys())\n",
    "# summarize history for accuracy\n",
    "plt.plot(results.history['crf_viterbi_accuracy'])\n",
    "plt.plot(results.history['val_crf_viterbi_accuracy'])\n",
    "plt.title('model accuracy')\n",
    "plt.ylabel('accuracy')\n",
    "plt.xlabel('epoch')\n",
    "plt.legend(['train', 'test'], loc='upper left')\n",
    "plt.show()\n",
    "# summarize history for loss\n",
    "plt.plot(results.history['loss'])\n",
    "plt.plot(results.history['val_loss'])\n",
    "plt.title('model loss')\n",
    "plt.ylabel('loss')\n",
    "plt.xlabel('epoch')\n",
    "plt.legend(['train', 'test'], loc='upper left')\n",
    "plt.show()"
   ]
  },
  {
   "cell_type": "code",
   "execution_count": null,
   "metadata": {},
   "outputs": [],
   "source": []
  },
  {
   "cell_type": "code",
   "execution_count": null,
   "metadata": {},
   "outputs": [],
   "source": []
  },
  {
   "cell_type": "code",
   "execution_count": null,
   "metadata": {},
   "outputs": [],
   "source": []
  },
  {
   "cell_type": "code",
   "execution_count": null,
   "metadata": {},
   "outputs": [],
   "source": []
  },
  {
   "cell_type": "code",
   "execution_count": null,
   "metadata": {},
   "outputs": [],
   "source": []
  },
  {
   "cell_type": "code",
   "execution_count": null,
   "metadata": {},
   "outputs": [],
   "source": []
  }
 ],
 "metadata": {
  "accelerator": "GPU",
  "colab": {
   "name": "bilstm_crf_ner_6.ipynb",
   "provenance": []
  },
  "kernelspec": {
   "display_name": "Python 3",
   "language": "python",
   "name": "python3"
  },
  "language_info": {
   "codemirror_mode": {
    "name": "ipython",
    "version": 3
   },
   "file_extension": ".py",
   "mimetype": "text/x-python",
   "name": "python",
   "nbconvert_exporter": "python",
   "pygments_lexer": "ipython3",
   "version": "3.7.6"
  }
 },
 "nbformat": 4,
 "nbformat_minor": 1
}
