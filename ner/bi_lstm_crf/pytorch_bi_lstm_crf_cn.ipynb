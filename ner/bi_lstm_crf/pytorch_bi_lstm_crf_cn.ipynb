{
 "cells": [
  {
   "cell_type": "markdown",
   "metadata": {},
   "source": [
    "# A Pytorch implementation of the BiLSTM-CRF model\n",
    "- [pypy](https://pypi.org/project/bi-lstm-crf/)"
   ]
  },
  {
   "cell_type": "markdown",
   "metadata": {},
   "source": [
    "# 0. Settings"
   ]
  },
  {
   "cell_type": "code",
   "execution_count": 1,
   "metadata": {},
   "outputs": [
    {
     "name": "stdout",
     "output_type": "stream",
     "text": [
      "Collecting bi-lstm-crf\n",
      "  Downloading bi-lstm-crf-0.2.1.tar.gz (10 kB)\n",
      "Requirement already satisfied: tqdm in /Users/mac/opt/anaconda3/lib/python3.7/site-packages (from bi-lstm-crf) (4.48.2)\n",
      "Requirement already satisfied: numpy in /Users/mac/opt/anaconda3/lib/python3.7/site-packages (from bi-lstm-crf) (1.19.1)\n",
      "Requirement already satisfied: pandas in /Users/mac/opt/anaconda3/lib/python3.7/site-packages (from bi-lstm-crf) (1.1.0)\n",
      "Requirement already satisfied: torch in /Users/mac/opt/anaconda3/lib/python3.7/site-packages (from bi-lstm-crf) (1.6.0)\n",
      "Requirement already satisfied: python-dateutil>=2.7.3 in /Users/mac/opt/anaconda3/lib/python3.7/site-packages (from pandas->bi-lstm-crf) (2.8.1)\n",
      "Requirement already satisfied: pytz>=2017.2 in /Users/mac/opt/anaconda3/lib/python3.7/site-packages (from pandas->bi-lstm-crf) (2020.1)\n",
      "Requirement already satisfied: future in /Users/mac/opt/anaconda3/lib/python3.7/site-packages (from torch->bi-lstm-crf) (0.18.2)\n",
      "Requirement already satisfied: six>=1.5 in /Users/mac/opt/anaconda3/lib/python3.7/site-packages (from python-dateutil>=2.7.3->pandas->bi-lstm-crf) (1.15.0)\n",
      "Building wheels for collected packages: bi-lstm-crf\n",
      "  Building wheel for bi-lstm-crf (setup.py) ... \u001b[?25ldone\n",
      "\u001b[?25h  Created wheel for bi-lstm-crf: filename=bi_lstm_crf-0.2.1-py3-none-any.whl size=13175 sha256=6037939627eb7a9cd9535fa7c512dacd1dd00cad64de449723abd9051955340c\n",
      "  Stored in directory: /Users/mac/Library/Caches/pip/wheels/40/b7/65/251c5fffac7d56daebfc34184125b4bf0f7261cc0eeacb260f\n",
      "Successfully built bi-lstm-crf\n",
      "Installing collected packages: bi-lstm-crf\n",
      "Successfully installed bi-lstm-crf-0.2.1\n"
     ]
    }
   ],
   "source": [
    "!pip install bi-lstm-crf"
   ]
  },
  {
   "cell_type": "code",
   "execution_count": null,
   "metadata": {},
   "outputs": [],
   "source": []
  },
  {
   "cell_type": "code",
   "execution_count": null,
   "metadata": {},
   "outputs": [],
   "source": []
  },
  {
   "cell_type": "code",
   "execution_count": null,
   "metadata": {},
   "outputs": [],
   "source": []
  },
  {
   "cell_type": "code",
   "execution_count": null,
   "metadata": {},
   "outputs": [],
   "source": []
  },
  {
   "cell_type": "code",
   "execution_count": null,
   "metadata": {},
   "outputs": [],
   "source": []
  },
  {
   "cell_type": "code",
   "execution_count": null,
   "metadata": {},
   "outputs": [],
   "source": []
  }
 ],
 "metadata": {
  "kernelspec": {
   "display_name": "Python 3",
   "language": "python",
   "name": "python3"
  },
  "language_info": {
   "codemirror_mode": {
    "name": "ipython",
    "version": 3
   },
   "file_extension": ".py",
   "mimetype": "text/x-python",
   "name": "python",
   "nbconvert_exporter": "python",
   "pygments_lexer": "ipython3",
   "version": "3.7.6"
  }
 },
 "nbformat": 4,
 "nbformat_minor": 4
}
