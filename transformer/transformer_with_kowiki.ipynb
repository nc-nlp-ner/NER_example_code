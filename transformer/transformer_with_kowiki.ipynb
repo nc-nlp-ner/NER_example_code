{
 "cells": [
  {
   "cell_type": "markdown",
   "metadata": {},
   "source": [
    "# Transformer (Attention Is All You Need) 구현하기 \n"
   ]
  },
  {
   "cell_type": "markdown",
   "metadata": {},
   "source": [
    "# 0. Settings"
   ]
  },
  {
   "cell_type": "code",
   "execution_count": 1,
   "metadata": {},
   "outputs": [],
   "source": [
    "import sentencepiece as spm\n",
    "import torch\n",
    "import torch.nn as nn\n",
    "import numpy as np\n",
    "import matplotlib.pyplot as plt"
   ]
  },
  {
   "cell_type": "markdown",
   "metadata": {},
   "source": [
    "# 1. Vocab\n",
    "- sentencepiece로 미리 생성해둔 vocab을 이용해 입력 텍스트를 tensor로 변경"
   ]
  },
  {
   "cell_type": "code",
   "execution_count": 2,
   "metadata": {},
   "outputs": [
    {
     "name": "stdout",
     "output_type": "stream",
     "text": [
      "['▁겨울', '은', '▁추', '워', '요', '.']\n",
      "['▁감', '기', '▁조', '심', '하', '세', '요', '.']\n"
     ]
    },
    {
     "data": {
      "text/plain": [
       "(torch.Size([2, 8]),\n",
       " tensor([[3159, 3533,  200, 3883, 3688, 3519,    0,    0],\n",
       "         [ 206, 3534,   53, 3759, 3525, 3613, 3688, 3519]]))"
      ]
     },
     "execution_count": 2,
     "metadata": {},
     "output_type": "execute_result"
    }
   ],
   "source": [
    "# vocab loading\n",
    "vocab_file = \"./kowiki_vocab_data/kowiki.model\"\n",
    "vocab = spm.SentencePieceProcessor()\n",
    "vocab.load(vocab_file)\n",
    "\n",
    "# input texts\n",
    "lines = [\n",
    "    \"겨울은 추워요.\",\n",
    "    \"감기 조심하세요.\"\n",
    "]\n",
    "\n",
    "# text to tensor\n",
    "inputs = []\n",
    "for line in lines:\n",
    "    pieces = vocab.encode_as_pieces(line)\n",
    "    ids = vocab.encode_as_ids(line)\n",
    "    inputs.append(torch.tensor(ids))\n",
    "    print(pieces)\n",
    "    \n",
    "# 입력 길이가 다르므로 입력 최대 길이에 맞춰 padding(0)을 추가\n",
    "inputs = torch.nn.utils.rnn.pad_sequence(inputs, batch_first = True, padding_value = 0)\n",
    "# shape and value\n",
    "inputs.size(), inputs"
   ]
  },
  {
   "cell_type": "markdown",
   "metadata": {},
   "source": [
    "# 2. Embedding\n",
    "- Transformer의 임베딩은 아래의 두 가지 방법을 합해서 사용\n",
    "1. Input embedding\n",
    "2. Position Embedding"
   ]
  },
  {
   "cell_type": "markdown",
   "metadata": {},
   "source": [
    "## 2-1. Input Embedding\n",
    "- 임베딩은 입력 토큰을 벡터 형태로 변환함\n",
    "### 1) 인풋에 대한 임베딩 값 input_embs구하기\n",
    "- inputs(2,8)에 대한 임베딩 값 input_embs(2,8,128) shape을 가짐"
   ]
  },
  {
   "cell_type": "code",
   "execution_count": 32,
   "metadata": {},
   "outputs": [
    {
     "data": {
      "text/plain": [
       "torch.Size([2, 8, 128])"
      ]
     },
     "execution_count": 32,
     "metadata": {},
     "output_type": "execute_result"
    }
   ],
   "source": [
    "n_vocab = len(vocab) # vocab count\n",
    "d_hidn = 128 # hidden size\n",
    "nn_emb = nn.Embedding(n_vocab, d_hidn) # embedding object\n",
    "\n",
    "input_embs = nn_emb(inputs) # input embedding\n",
    "input_embs.size()"
   ]
  },
  {
   "cell_type": "markdown",
   "metadata": {},
   "source": [
    "## 2-2. Position Embedding\n",
    "1. 각 포지션 별로 angle 값 구하기\n",
    "2. 구해진 angle 중 짝수 idx 값에 대한 sin값 구하기\n",
    "3. 구해진 angle 중 홀수 idx 값에 대한 cos값 구하기\n",
    "\n",
    "**position encoding function**\n",
    "- [계산 참고](https://skyjwoo.tistory.com/entry/positional-encoding%EC%9D%B4%EB%9E%80-%EB%AC%B4%EC%97%87%EC%9D%B8%EA%B0%80)"
   ]
  },
  {
   "cell_type": "code",
   "execution_count": 4,
   "metadata": {},
   "outputs": [],
   "source": [
    "\"\"\"sinusoid position embedding\"\"\"\n",
    "def get_sinusoid_encoding_table(n_seq, d_hidn):\n",
    "    def cal_angle(position, i_hidn):\n",
    "        return position / np.power(10000, 2 * (i_hidn // 2) / d_hidn)\n",
    "    def get_posi_angle_vec(position):\n",
    "        return [cal_angle(position, i_hidn) for i_hidn in range(d_hidn)]\n",
    "\n",
    "    sinusoid_table = np.array([get_posi_angle_vec(i_seq) for i_seq in range(n_seq)])\n",
    "    sinusoid_table[:, 0::2] = np.sin(sinusoid_table[:, 0::2])  # even index sin \n",
    "    sinusoid_table[:, 1::2] = np.cos(sinusoid_table[:, 1::2])  # odd index cos\n",
    "\n",
    "    return sinusoid_table"
   ]
  },
  {
   "cell_type": "code",
   "execution_count": 5,
   "metadata": {},
   "outputs": [
    {
     "name": "stdout",
     "output_type": "stream",
     "text": [
      "(64, 128)\n"
     ]
    },
    {
     "data": {
      "image/png": "[encoded data removed]",
      "text/plain": [
       "<Figure size 432x288 with 2 Axes>"
      ]
     },
     "metadata": {
      "needs_background": "light"
     },
     "output_type": "display_data"
    }
   ],
   "source": [
    "n_seq = 64\n",
    "pos_encoding = get_sinusoid_encoding_table(n_seq, d_hidn)\n",
    "print(pos_encoding.shape) # 크기 출력\n",
    "plt.pcolormesh(pos_encoding, cmap='RdBu')\n",
    "plt.xlabel('Depth')\n",
    "plt.xlim((0, d_hidn))\n",
    "plt.ylabel('Position')\n",
    "plt.colorbar()\n",
    "plt.show()"
   ]
  },
  {
   "cell_type": "markdown",
   "metadata": {},
   "source": [
    "### position embedding 값을 구하는 절차\n",
    "1. 위에서 구해진 position encoding값을 이용해 position embedding 생성\n",
    "    - 학습되는 값이 아니므로 freeze 옵션을 True로 설정\n",
    "2. 입력 inputs과 동일한 크기를 갖는 positions 값 구하기\n",
    "3. input값 중 pad(0)값 찾기\n",
    "4. positions 값 중 pad 부분은 0으로 변경\n",
    "5. positions 값에 해당하는 embedding 값 구하기"
   ]
  },
  {
   "cell_type": "code",
   "execution_count": 22,
   "metadata": {},
   "outputs": [
    {
     "data": {
      "text/plain": [
       "(tensor([0, 1, 2, 3, 4, 5, 6, 7]),\n",
       " tensor([[0, 1, 2, 3, 4, 5, 6, 7],\n",
       "         [0, 1, 2, 3, 4, 5, 6, 7]]),\n",
       " tensor([[1, 2, 3, 4, 5, 6, 7, 8],\n",
       "         [1, 2, 3, 4, 5, 6, 7, 8]]))"
      ]
     },
     "execution_count": 22,
     "metadata": {},
     "output_type": "execute_result"
    }
   ],
   "source": [
    "# check the line 5\n",
    "tmp = torch.arange(8)\n",
    "tmp, tmp.expand(2,8), tmp.expand(2,8).contiguous() + 1"
   ]
  },
  {
   "cell_type": "code",
   "execution_count": 24,
   "metadata": {},
   "outputs": [
    {
     "data": {
      "text/plain": [
       "tensor([[False, False, False, False, False, False,  True,  True],\n",
       "        [False, False, False, False, False, False, False, False]])"
      ]
     },
     "execution_count": 24,
     "metadata": {},
     "output_type": "execute_result"
    }
   ],
   "source": [
    "inputs.eq(0)"
   ]
  },
  {
   "cell_type": "code",
   "execution_count": 26,
   "metadata": {},
   "outputs": [
    {
     "data": {
      "text/plain": [
       "(tensor([[3159, 3533,  200, 3883, 3688, 3519,    0,    0],\n",
       "         [ 206, 3534,   53, 3759, 3525, 3613, 3688, 3519]]),\n",
       " tensor([[1, 2, 3, 4, 5, 6, 0, 0],\n",
       "         [1, 2, 3, 4, 5, 6, 7, 8]]),\n",
       " torch.Size([2, 8, 128]))"
      ]
     },
     "execution_count": 26,
     "metadata": {},
     "output_type": "execute_result"
    }
   ],
   "source": [
    "pos_encoding = torch.FloatTensor(pos_encoding)\n",
    "nn_pos = nn.Embedding.from_pretrained(pos_encoding, freeze = True)\n",
    "\n",
    "# torch.arange(end = 8, device = cpu, dtype = torch.int64)\n",
    "positions = torch.arange(inputs.size(1), device = inputs.device, \n",
    "                         dtype=inputs.dtype).expand(inputs.size(0),\n",
    "                                                    inputs.size(1)).contiguous() + 1\n",
    "# inputs.eq(0) : 값이 0일 경우 True 반환\n",
    "pos_mask = inputs.eq(0)\n",
    "positions.masked_fill_(pos_mask, 0)\n",
    "pos_embs = nn_pos(positions) # Position Embedding\n",
    "\n",
    "inputs, positions, pos_embs.size()"
   ]
  },
  {
   "cell_type": "markdown",
   "metadata": {},
   "source": [
    "- input_embs, pos_embs는 (2,8,128)로 동일함\n",
    "- 두 값을 더한게 transformer에 입력할 Input값이 됨"
   ]
  },
  {
   "cell_type": "code",
   "execution_count": 34,
   "metadata": {},
   "outputs": [],
   "source": [
    "inputs_sums = input_embs + pos_embs"
   ]
  },
  {
   "cell_type": "markdown",
   "metadata": {},
   "source": [
    "# 3. Scaled Dot Product Attention\n",
    "- [상세 계산 내용 참고](https://simpling.tistory.com/3)\n",
    "1. MatMul : Q,K\n",
    "2. Scale\n",
    "3. Mask(opt.)\n",
    "4. SoftMax\n",
    "5. MatMul : V\n",
    "\n",
    "### 입력값 : Query, Key, Value 그리고 Attention Mask로 구성 됨\n",
    "- 입력값 중 K,V는 같은 값이어야 함\n",
    "    - Q,K,V가 모두 동일할 경우 self attention이라 함"
   ]
  },
  {
   "cell_type": "code",
   "execution_count": 40,
   "metadata": {},
   "outputs": [
    {
     "data": {
      "text/plain": [
       "(torch.Size([2, 8, 8]),\n",
       " tensor([[False, False, False, False, False, False,  True,  True],\n",
       "         [False, False, False, False, False, False,  True,  True],\n",
       "         [False, False, False, False, False, False,  True,  True],\n",
       "         [False, False, False, False, False, False,  True,  True],\n",
       "         [False, False, False, False, False, False,  True,  True],\n",
       "         [False, False, False, False, False, False,  True,  True],\n",
       "         [False, False, False, False, False, False,  True,  True],\n",
       "         [False, False, False, False, False, False,  True,  True]]))"
      ]
     },
     "execution_count": 40,
     "metadata": {},
     "output_type": "execute_result"
    }
   ],
   "source": [
    "Q = K = V = inputs_sums # self attention\n",
    "\n",
    "# inputs.eq(0) : pad(0) 부분만 True\n",
    "# .unsqueeze(1) : size[2,8] -> 두 번째 차원에 1인 차원 추가 -> size[2, 1, 8]\n",
    "# .expand(2,8,8)\n",
    "attn_mask = inputs.eq(0).unsqueeze(1).expand(Q.size(0), Q.size(1), K.size(1))\n",
    "attn_mask.size(), attn_mask[0]"
   ]
  },
  {
   "cell_type": "markdown",
   "metadata": {},
   "source": [
    "## 3-1. MatMul : Q, K\n",
    "### 각 단어 상호간에 가중치를 표현하는 테이블 생성\n",
    "- Query와 Key의 행렬 계산은 Q * K-transpose 수행\n",
    "    - 이는 내적 연산과 같은 과정으로 각 단어에 대한 attention score를 구할 수 있음 \n",
    "- 내적 연산 결과는 -1~1사이의 값을 가짐\n",
    "    - 어떤 쿼리와 키가 중요한 역할을 하고 있다면 attention block은 이들 사이의 내적 값을 키우는 방식으로 학습\n",
    "    - 내적 값이 커지면 해당 쿼리와 키가 벡터 공간상 가까이 있을 가능성이 큼"
   ]
  },
  {
   "cell_type": "code",
   "execution_count": 60,
   "metadata": {},
   "outputs": [
    {
     "data": {
      "text/plain": [
       "(torch.Size([2, 8, 8]),\n",
       " tensor([[161.6671,  66.4975,  48.8140,  55.0819,  56.3461,  67.2860,  48.7868,\n",
       "           48.7868],\n",
       "         [ 66.4975, 200.3137,  63.9023,  55.6129,  74.1046,  51.0003,  53.0092,\n",
       "           53.0092],\n",
       "         [ 48.8140,  63.9023, 192.2759,  54.8248,  65.1568,  50.1685,  71.6417,\n",
       "           71.6417],\n",
       "         [ 55.0819,  55.6129,  54.8248, 244.8802,  80.1461,  75.4440,  41.2612,\n",
       "           41.2612],\n",
       "         [ 56.3461,  74.1046,  65.1568,  80.1461, 197.4663,  46.6134,  67.9760,\n",
       "           67.9760],\n",
       "         [ 67.2860,  51.0003,  50.1685,  75.4440,  46.6134, 177.6136,  53.1463,\n",
       "           53.1463],\n",
       "         [ 48.7868,  53.0092,  71.6417,  41.2612,  67.9760,  53.1463, 189.8435,\n",
       "          189.8435],\n",
       "         [ 48.7868,  53.0092,  71.6417,  41.2612,  67.9760,  53.1463, 189.8435,\n",
       "          189.8435]], grad_fn=<SelectBackward>))"
      ]
     },
     "execution_count": 60,
     "metadata": {},
     "output_type": "execute_result"
    }
   ],
   "source": [
    "scores = torch.matmul(Q, K.transpose(-1,-2))\n",
    "scores.size(), scores[0]"
   ]
  },
  {
   "cell_type": "markdown",
   "metadata": {},
   "source": [
    "## 3-2. Scale\n",
    "- 행렬 연산(내적) 후 벡터의 차원이 커지면 학습이 잘 안될 수 있으므로 스케일링 과정 거침\n",
    "    - k-dimension에 루트를 취한 값으로 나누어 줌\n",
    "- 가중치 편차가 scale 전과 비교하여 줄어듬을 확인할 수 있음"
   ]
  },
  {
   "cell_type": "code",
   "execution_count": 61,
   "metadata": {},
   "outputs": [
    {
     "data": {
      "text/plain": [
       "(torch.Size([2, 8, 8]),\n",
       " tensor([[20.2084,  8.3122,  6.1018,  6.8852,  7.0433,  8.4108,  6.0983,  6.0983],\n",
       "         [ 8.3122, 25.0392,  7.9878,  6.9516,  9.2631,  6.3750,  6.6261,  6.6261],\n",
       "         [ 6.1018,  7.9878, 24.0345,  6.8531,  8.1446,  6.2711,  8.9552,  8.9552],\n",
       "         [ 6.8852,  6.9516,  6.8531, 30.6100, 10.0183,  9.4305,  5.1576,  5.1576],\n",
       "         [ 7.0433,  9.2631,  8.1446, 10.0183, 24.6833,  5.8267,  8.4970,  8.4970],\n",
       "         [ 8.4108,  6.3750,  6.2711,  9.4305,  5.8267, 22.2017,  6.6433,  6.6433],\n",
       "         [ 6.0983,  6.6261,  8.9552,  5.1576,  8.4970,  6.6433, 23.7304, 23.7304],\n",
       "         [ 6.0983,  6.6261,  8.9552,  5.1576,  8.4970,  6.6433, 23.7304, 23.7304]],\n",
       "        grad_fn=<SelectBackward>))"
      ]
     },
     "execution_count": 61,
     "metadata": {},
     "output_type": "execute_result"
    }
   ],
   "source": [
    "d_head = 64\n",
    "scores = scores.mul_(1/d_head ** 0.5)\n",
    "scores.size(), scores[0]"
   ]
  },
  {
   "cell_type": "markdown",
   "metadata": {},
   "source": [
    "## 3-3. Mask (Opt.)\n",
    "- 자신보다 뒤에 있는 단어를 참고하지 않게 해주기 위해 mask해줌 \n",
    "    - 전체 문장을 한 번에 행렬 형태로 입력하는 구조임\n",
    "    - 따라서 mask를 하지않을 경우 자신보다 뒤에 있는 단어를 참고해서 단어를 예측하는 상황이 생길 수 있음\n",
    "- Qeury 단어 뒤에 나오는 Key 단어들에 대해서 masking 진행"
   ]
  },
  {
   "cell_type": "code",
   "execution_count": 64,
   "metadata": {},
   "outputs": [
    {
     "data": {
      "text/plain": [
       "(torch.Size([2, 8, 8]),\n",
       " tensor([[ 2.0208e+01,  8.3122e+00,  6.1018e+00,  6.8852e+00,  7.0433e+00,\n",
       "           8.4108e+00, -1.0000e+09, -1.0000e+09],\n",
       "         [ 8.3122e+00,  2.5039e+01,  7.9878e+00,  6.9516e+00,  9.2631e+00,\n",
       "           6.3750e+00, -1.0000e+09, -1.0000e+09],\n",
       "         [ 6.1018e+00,  7.9878e+00,  2.4034e+01,  6.8531e+00,  8.1446e+00,\n",
       "           6.2711e+00, -1.0000e+09, -1.0000e+09],\n",
       "         [ 6.8852e+00,  6.9516e+00,  6.8531e+00,  3.0610e+01,  1.0018e+01,\n",
       "           9.4305e+00, -1.0000e+09, -1.0000e+09],\n",
       "         [ 7.0433e+00,  9.2631e+00,  8.1446e+00,  1.0018e+01,  2.4683e+01,\n",
       "           5.8267e+00, -1.0000e+09, -1.0000e+09],\n",
       "         [ 8.4108e+00,  6.3750e+00,  6.2711e+00,  9.4305e+00,  5.8267e+00,\n",
       "           2.2202e+01, -1.0000e+09, -1.0000e+09],\n",
       "         [ 6.0983e+00,  6.6261e+00,  8.9552e+00,  5.1576e+00,  8.4970e+00,\n",
       "           6.6433e+00, -1.0000e+09, -1.0000e+09],\n",
       "         [ 6.0983e+00,  6.6261e+00,  8.9552e+00,  5.1576e+00,  8.4970e+00,\n",
       "           6.6433e+00, -1.0000e+09, -1.0000e+09]], grad_fn=<SelectBackward>))"
      ]
     },
     "execution_count": 64,
     "metadata": {},
     "output_type": "execute_result"
    }
   ],
   "source": [
    "scores.masked_fill_(attn_mask, -1e9)\n",
    "scores.size(), scores[0]"
   ]
  },
  {
   "cell_type": "markdown",
   "metadata": {},
   "source": [
    "## 3-4. Softmax\n",
    "- 0~1사이의 확률값으로 변환"
   ]
  },
  {
   "cell_type": "code",
   "execution_count": 65,
   "metadata": {},
   "outputs": [
    {
     "data": {
      "text/plain": [
       "(torch.Size([2, 8, 8]),\n",
       " tensor([[9.9998e-01, 6.8161e-06, 7.4741e-07, 1.6362e-06, 1.9163e-06, 7.5222e-06,\n",
       "          0.0000e+00, 0.0000e+00],\n",
       "         [5.4393e-08, 1.0000e+00, 3.9324e-08, 1.3953e-08, 1.4077e-07, 7.8388e-09,\n",
       "          0.0000e+00, 0.0000e+00],\n",
       "         [1.6290e-08, 1.0740e-07, 1.0000e+00, 3.4531e-08, 1.2563e-07, 1.9295e-08,\n",
       "          0.0000e+00, 0.0000e+00],\n",
       "         [4.9711e-11, 5.3122e-11, 4.8139e-11, 1.0000e+00, 1.1405e-09, 6.3365e-10,\n",
       "          0.0000e+00, 0.0000e+00],\n",
       "         [2.1829e-08, 2.0095e-07, 6.5665e-08, 4.2762e-07, 1.0000e+00, 6.4666e-09,\n",
       "          0.0000e+00, 0.0000e+00],\n",
       "         [1.0249e-06, 1.3383e-07, 1.2062e-07, 2.8414e-06, 7.7342e-08, 1.0000e+00,\n",
       "          0.0000e+00, 0.0000e+00],\n",
       "         [3.0097e-02, 5.1021e-02, 5.2390e-01, 1.1749e-02, 3.3132e-01, 5.1904e-02,\n",
       "          0.0000e+00, 0.0000e+00],\n",
       "         [3.0097e-02, 5.1021e-02, 5.2390e-01, 1.1749e-02, 3.3132e-01, 5.1904e-02,\n",
       "          0.0000e+00, 0.0000e+00]], grad_fn=<SelectBackward>))"
      ]
     },
     "execution_count": 65,
     "metadata": {},
     "output_type": "execute_result"
    }
   ],
   "source": [
    "attn_prob = nn.Softmax(dim=-1)(scores)\n",
    "attn_prob.size(), attn_prob[0]"
   ]
  },
  {
   "cell_type": "markdown",
   "metadata": {},
   "source": [
    "## 3-5. MatMul atten_prov, V\n",
    "- value와 행렬곱을 해줘서 각 context vector 구하기"
   ]
  },
  {
   "cell_type": "code",
   "execution_count": 66,
   "metadata": {},
   "outputs": [
    {
     "data": {
      "text/plain": [
       "torch.Size([2, 8, 128])"
      ]
     },
     "execution_count": 66,
     "metadata": {},
     "output_type": "execute_result"
    }
   ],
   "source": [
    "context = torch.matmul(attn_prob, V)\n",
    "context.size()"
   ]
  },
  {
   "cell_type": "markdown",
   "metadata": {},
   "source": [
    "### Scaled Dot Procudt Attention Class"
   ]
  },
  {
   "cell_type": "code",
   "execution_count": null,
   "metadata": {},
   "outputs": [],
   "source": [
    "\"\"\" scale dot product attention \"\"\"\n",
    "class ScaledDotProductAttention(nn.Module):\n",
    "    def __init__(self, d_head):\n",
    "        super().__init__()\n",
    "        self.scale = 1 / (d_head ** 0.5)\n",
    "    \n",
    "    def forward(self, Q, K, V, attn_mask):\n",
    "        # (bs, n_head, n_q_seq, n_k_seq)\n",
    "        scores = torch.matmul(Q, K.transpose(-1, -2)).mul_(self.scale)\n",
    "        scores.masked_fill_(attn_mask, -1e9)\n",
    "        # (bs, n_head, n_q_seq, n_k_seq)\n",
    "        attn_prob = nn.Softmax(dim=-1)(scores)\n",
    "        # (bs, n_head, n_q_seq, d_v)\n",
    "        context = torch.matmul(attn_prob, V)\n",
    "        # (bs, n_head, n_q_seq, d_v), (bs, n_head, n_q_seq, n_v_seq)\n",
    "        return context, attn_prob"
   ]
  },
  {
   "cell_type": "code",
   "execution_count": null,
   "metadata": {},
   "outputs": [],
   "source": []
  },
  {
   "cell_type": "code",
   "execution_count": null,
   "metadata": {},
   "outputs": [],
   "source": []
  }
 ],
 "metadata": {
  "kernelspec": {
   "display_name": "Python 3",
   "language": "python",
   "name": "python3"
  },
  "language_info": {
   "codemirror_mode": {
    "name": "ipython",
    "version": 3
   },
   "file_extension": ".py",
   "mimetype": "text/x-python",
   "name": "python",
   "nbconvert_exporter": "python",
   "pygments_lexer": "ipython3",
   "version": "3.7.6"
  }
 },
 "nbformat": 4,
 "nbformat_minor": 4
}
